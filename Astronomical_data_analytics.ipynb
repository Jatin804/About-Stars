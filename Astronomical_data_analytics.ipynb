{
 "cells": [
  {
   "cell_type": "markdown",
   "id": "92b98a59710e1735",
   "metadata": {},
   "source": [
    "# Module 1 : Data Visualization"
   ]
  },
  {
   "cell_type": "markdown",
   "id": "465121e9-147a-4f06-b7c5-10beb680715c",
   "metadata": {},
   "source": [
    "### Importing the libraries "
   ]
  },
  {
   "cell_type": "code",
   "execution_count": null,
   "id": "cc5df8ab-7ead-4f00-a0f3-362d3f5dfa00",
   "metadata": {
    "ExecuteTime": {
     "end_time": "2024-07-08T17:56:14.349299Z",
     "start_time": "2024-07-08T17:56:14.344016Z"
    }
   },
   "outputs": [],
   "source": [
    "import os\n",
    "import numpy as np\n",
    "import pandas as pd\n",
    "import seaborn as sns\n",
    "import matplotlib.pyplot as plt "
   ]
  },
  {
   "cell_type": "markdown",
   "id": "97e418c3-0f75-437b-8e62-41616fb30ec8",
   "metadata": {},
   "source": [
    "### Peek into the data by creating pandas"
   ]
  },
  {
   "cell_type": "code",
   "execution_count": null,
   "id": "e6df3c12-e1fc-481a-a0c7-d1dcfab0553b",
   "metadata": {
    "ExecuteTime": {
     "end_time": "2024-07-08T17:21:32.388647Z",
     "start_time": "2024-07-08T17:21:30.509852Z"
    },
    "scrolled": true
   },
   "outputs": [],
   "source": [
    "star_df = pd.read_csv('https://drive.google.com/uc?id=1BQVc6MHjQFtDC9iP1isT_K4ojVe_Oil-')"
   ]
  },
  {
   "cell_type": "code",
   "execution_count": null,
   "id": "e3d9956a-f49f-43ec-a9ca-a232b0bc7aef",
   "metadata": {
    "ExecuteTime": {
     "end_time": "2024-07-08T17:21:32.455716Z",
     "start_time": "2024-07-08T17:21:32.389689Z"
    },
    "scrolled": true
   },
   "outputs": [],
   "source": [
    "star_df.head() #   <- top some result"
   ]
  },
  {
   "cell_type": "code",
   "execution_count": null,
   "id": "a30806e8-6c3f-45e5-8d4f-55551131543a",
   "metadata": {
    "ExecuteTime": {
     "end_time": "2024-07-08T17:21:32.501942Z",
     "start_time": "2024-07-08T17:21:32.456730Z"
    },
    "scrolled": true
   },
   "outputs": [],
   "source": [
    "star_df.sample(5)  #     <- some random samples "
   ]
  },
  {
   "cell_type": "markdown",
   "id": "727ddeb0-2e7f-4754-9673-c64cffd53a1b",
   "metadata": {},
   "source": [
    "1. Dataset contans of 240 rows, 6 features nd 1 target columns,\n",
    "- Absolute Temperature (in K)\n",
    "- Relative Luminosity (L/Lo)\n",
    "- Relative Radius (R/Ro)\n",
    "- Absolute Magnitude (Mv)\n",
    "- Star Color\n",
    "- Spectral Class\n",
    "- Star Type (Target classes) \n",
    "\n",
    "Here, \n",
    "- Lo = 3.828 x 10^26 Watts (Avg Luminosity od Sun)\n",
    "- Ro = ^.9551 x 10^8 m (Avg Radius of Sun)\n",
    "2. Two categorical features (object type) which will need some kind of encoding\n",
    "- star Color\n",
    "- Spectral Class\n",
    "\n",
    "3. Some information about above excel sheet :\n",
    "- 0 -> Brown dwaft \n",
    "- 1 -> Red draft\n",
    "- 2 -> White draft \n",
    "- 3 -> Main sequence\n",
    "- 4 -> Supergiants\n",
    "- 5 -> Hypergiants"
   ]
  },
  {
   "cell_type": "markdown",
   "id": "1ea88fe8-3989-42a6-9265-cd8cba71b3a2",
   "metadata": {},
   "source": [
    "#### To check general information about the dataframe"
   ]
  },
  {
   "cell_type": "markdown",
   "id": "73b45fed-8012-4491-b86c-d562c42beaf2",
   "metadata": {
    "scrolled": true
   },
   "source": [
    "star_df.info()   # <- for information about csv "
   ]
  },
  {
   "cell_type": "markdown",
   "id": "7ed0be6d-4d60-455a-8cd0-4bc189ca66d4",
   "metadata": {},
   "source": [
    "### Creating a dir to save the visualization :- "
   ]
  },
  {
   "cell_type": "code",
   "execution_count": null,
   "id": "6fafee5f-e0a5-4499-b03a-f8788a167b74",
   "metadata": {
    "ExecuteTime": {
     "end_time": "2024-07-08T17:21:32.532083Z",
     "start_time": "2024-07-08T17:21:32.505957Z"
    }
   },
   "outputs": [],
   "source": [
    "# Create a directory to save the visualization\n",
    "folder_name = 'star_plots'\n",
    "os.makedirs(folder_name, exist_ok=True)      # if it not exists create, if exists dont create \n",
    "base_dir = f\"C:/Users/Sir/Documents/Analytics_practice/About-Stars/{folder_name}/\""
   ]
  },
  {
   "cell_type": "markdown",
   "id": "2da63639-346b-4aee-8e86-dd3409707c29",
   "metadata": {},
   "source": []
  },
  {
   "cell_type": "markdown",
   "id": "000d41a6-deb7-4c30-81bb-36ce71c314d7",
   "metadata": {},
   "source": [
    "### Visualize the count of start for each type of star (using matblotlib)"
   ]
  },
  {
   "cell_type": "code",
   "execution_count": null,
   "id": "f8dfcbaf-4d93-48a8-9f1b-fd71faeeee2e",
   "metadata": {
    "ExecuteTime": {
     "end_time": "2024-07-08T17:21:33.776963Z",
     "start_time": "2024-07-08T17:21:32.534095Z"
    }
   },
   "outputs": [],
   "source": [
    "# Bar chart to visualize the count of stars with respective type\n",
    "\n",
    "plt.figure(figsize=(15, 3.5))                                         # to adjust size \n",
    "#plt.style.use('dark_background')                                     # to change the background to dark  - default/ dark_bakground \n",
    "\n",
    "val = star_df['Star type'].value_counts().plot(kind=\"bar\", color=['brown', 'blue', 'green', 'yellow', 'orange', 'red'])\n",
    "\n",
    "val.bar_label(val.containers[0], color=\"red\")                         # for label, for ever values in the bar graph, for color too \n",
    "plt.title(\"Visualize star count for ever star\")\n",
    "plt.yticks(color='blue')                                              # to change the color of the bar graph values i.e, 0,5,10,25,....\n",
    "\n",
    "plt.xticks(ticks=[0,1,2,3,4,5],\n",
    "           labels=['Brown dwaft', 'Red draft', 'White draft', 'Main sequence', 'Supergiants', 'Hypergiants'],   #to change ticks to labels\n",
    "           rotation=30)                                              # for rotation of the value lables \n",
    "\n",
    "plt.ylabel(\"No. of stars\", fontsize=12)\n",
    "plt.savefig(base_dir + 'barplot_star_count.png')\n",
    "plt.show()"
   ]
  },
  {
   "cell_type": "markdown",
   "id": "179a2eb3-e1d0-4135-8b38-a34eb7172b6e",
   "metadata": {},
   "source": [
    "### Visualize the count of start for each type of star (using seaborn)"
   ]
  },
  {
   "cell_type": "code",
   "execution_count": null,
   "id": "3d2241c5-8263-42b2-9fa4-9a2d0ed46f93",
   "metadata": {
    "ExecuteTime": {
     "end_time": "2024-07-08T17:21:34.260119Z",
     "start_time": "2024-07-08T17:21:33.777993Z"
    }
   },
   "outputs": [],
   "source": [
    "star_df['Star color'].value_counts()\n",
    "# star_df['Star color'].value_counts().index    # for knowing the value present in requested column\n",
    "\n",
    "# to plot \n",
    "ax = sns.barplot(x=star_df['Star color'].value_counts().index,\n",
    "            y=star_df['Star color'].value_counts(),\n",
    "           palette='viridis')\n",
    "ax.bar_label(ax.containers[0], color='red', weight='bold')                 # for max value label highlight\n",
    "plt.title('Visualizing the count of Star color', color='royalblue')\n",
    "# plt.xticks(roration=1, color='orange')\n",
    "plt.ylabel('Star color',color='white', fontsize=14)\n",
    "plt.yticks(color='tab:pink')\n",
    "plt.savefig(base_dir + \"Visualizing using sns \")\n",
    "plt.show()\n"
   ]
  },
  {
   "cell_type": "markdown",
   "id": "58ed3c0519cd2ea5",
   "metadata": {},
   "source": [
    "## Visualization based on size and luminosity of start based on types ! "
   ]
  },
  {
   "cell_type": "code",
   "execution_count": null,
   "id": "a7559b0216d58866",
   "metadata": {
    "ExecuteTime": {
     "end_time": "2024-07-08T17:21:34.600239Z",
     "start_time": "2024-07-08T17:21:34.261131Z"
    }
   },
   "outputs": [],
   "source": [
    "\n",
    "sns.boxplot(x=star_df['Star type'], y=star_df.iloc[:, 0])   # iloc -> location based on index (i.e., Temperature, luminosity, radius, magnitude)\n",
    "sns.boxplot(x=star_df['Star type'], y=star_df.iloc[:, 1])\n",
    "plt.show()"
   ]
  },
  {
   "cell_type": "markdown",
   "id": "b1dbe1c25cb188a2",
   "metadata": {},
   "source": []
  },
  {
   "cell_type": "markdown",
   "id": "43ff65bab4635f4e",
   "metadata": {},
   "source": [
    "- 0 -> Brown dwaft \n",
    "- 1 -> Red draft\n",
    "- 2 -> White draft \n",
    "- 3 -> Main sequence\n",
    "- 4 -> Supergiants\n",
    "- 5 -> Hypergiants"
   ]
  },
  {
   "cell_type": "code",
   "execution_count": null,
   "id": "a40e7a87fdda2ecb",
   "metadata": {
    "ExecuteTime": {
     "end_time": "2024-07-08T17:21:35.825979Z",
     "start_time": "2024-07-08T17:21:34.601245Z"
    }
   },
   "outputs": [],
   "source": [
    "# plt.subplot(rows, cols, positions)  # values accordingly \n",
    "# plt.subplot(1,4,1)\n",
    "# sns.boxplot(x=star_df['Star type'], y=star_df.iloc[:, 0])\n",
    "\n",
    "plt.figure(figsize=(25,10))\n",
    "plt.suptitle('Visualizing the outliers in numeric features of the Star type', fontsize=22, weight='bold')\n",
    "\n",
    "for i in range(4):\n",
    "    plt.subplot(1,4,i+1)\n",
    "    sns.boxplot(x=star_df['Star type'], y=star_df.iloc[:, i]) \n",
    "    plt.title(star_df.columns[i], color='red')\n",
    "    plt.ylabel('')\n",
    "\n",
    "plt.savefig(base_dir + 'Visualizing acc Types !')\n",
    "# plt.show()"
   ]
  },
  {
   "cell_type": "markdown",
   "id": "4b553b77e981b4cd",
   "metadata": {},
   "source": [
    "## Creating a lineplots \n",
    "- Show how the values are distributed to each of the numeric features.\n",
    "- Again create a subplot but with 4 rows and 1 column. "
   ]
  },
  {
   "cell_type": "code",
   "execution_count": null,
   "id": "33c88b0d177c6126",
   "metadata": {
    "ExecuteTime": {
     "end_time": "2024-07-08T17:21:35.831691Z",
     "start_time": "2024-07-08T17:21:35.826984Z"
    }
   },
   "outputs": [],
   "source": [
    "def line_plot(star_df, colors, i):          # what is the function doing : line plot for the numeric features\n",
    "    plt.subplot(4, 1, i+1)\n",
    "    plt.plot(star_df.iloc[:, i],  color=colors[i])\n",
    "    plt.title(star_df.columns[i] )\n",
    "    \n",
    "    "
   ]
  },
  {
   "cell_type": "code",
   "execution_count": null,
   "id": "5ca2a96eaccf19d4",
   "metadata": {
    "ExecuteTime": {
     "end_time": "2024-07-08T17:21:37.255721Z",
     "start_time": "2024-07-08T17:21:35.834739Z"
    }
   },
   "outputs": [],
   "source": [
    "# line plot \n",
    "colours = ['royalblue', 'orange', 'green', 'yellow']\n",
    "plt.figure(figsize=(15, 10)) # to adjust the size of the plot\n",
    "plt.suptitle('Visualizing the distribution of numeric features', fontsize=22, weight='bold')\n",
    "\n",
    "\n",
    "for i in range(4):           \n",
    "    line_plot(star_df, colours, i)          # using the function to plot the line plot\n",
    "\n",
    "\n",
    "plt.tight_layout() # to adjust the space between the plots  \n",
    "plt.savefig(base_dir + 'line_plot.png')\n",
    "plt.show()"
   ]
  },
  {
   "cell_type": "markdown",
   "id": "20b097333a76223",
   "metadata": {},
   "source": [
    "## Pair Plot \n",
    "- Scatter plot for all the numeric features to see the relationship between them.\n",
    "- Use Seaborn to get the sub plot without coding for it. \n",
    "- eg : how temp is changing with luminosity, radius, magnitude."
   ]
  },
  {
   "cell_type": "markdown",
   "id": "ee2078860f8f4dd8",
   "metadata": {},
   "source": [
    "#### Creating a pair plot\n",
    "- It gives the scatter plot default and we can change the kind of we want for of all variables with each other. \n",
    "- It give all the plot together without using subplot manually.\n",
    "\n",
    "Disadvantages :\n",
    "- It is not good for large dataset. ie., lots of columns\n",
    "- It is slow for large dataset.\n",
    "\n",
    "Use :\n",
    "- However, as we less features let's obtain the pair plot with hue set to Spectral class. \n",
    "- Hue will allows us to compare the relationship between the variables with respect to the spectral class."
   ]
  },
  {
   "cell_type": "code",
   "execution_count": null,
   "id": "d1d0a0a6a12be77f",
   "metadata": {
    "ExecuteTime": {
     "end_time": "2024-07-08T17:21:48.459245Z",
     "start_time": "2024-07-08T17:21:37.256767Z"
    }
   },
   "outputs": [],
   "source": [
    "# Get a pair plot for the dataset - scatter\n",
    "\n",
    "sns.pairplot(star_df, hue='Spectral Class')\n",
    "plt.savefig(base_dir + 'pair_plot.png')\n",
    "plt.show()"
   ]
  },
  {
   "cell_type": "markdown",
   "id": "11d488de7c3b413",
   "metadata": {},
   "source": [
    "## Creating a HR diagram. \n"
   ]
  },
  {
   "cell_type": "code",
   "execution_count": null,
   "id": "22820be2d6553ef8",
   "metadata": {
    "ExecuteTime": {
     "end_time": "2024-07-08T17:21:48.468311Z",
     "start_time": "2024-07-08T17:21:48.462320Z"
    }
   },
   "outputs": [],
   "source": [
    "star_type = star_df['Star type'].values     # will be used for the color of the points\n",
    "temp = star_df['Temperature (K)'].values        # will give the x-axis values as a list\n",
    "abs_mag = star_df['Absolute magnitude(Mv)'].values\n",
    "\n",
    "# Python dictionary --> Made of key value pairs\n",
    "star_types = {\n",
    "    0: {'label': 'Brown dwarf', 'color': 'brown', 'size': 30, 'marker': '.'},\n",
    "    1: {'label': 'Red dwarf', 'color': 'red', 'size': 35, 'marker': '.'},\n",
    "    2: {'label': 'White dwarf', 'color': 'white', 'size': 40, 'marker': '.'},\n",
    "    3: {'label': 'Main sequence', 'color': 'cyan', 'size': 30, 'marker': 'o'},\n",
    "    4: {'label': 'Supergiants', 'color': 'blue', 'size': 100, 'marker': 'o'},\n",
    "    5: {'label': 'Hypergiants', 'color': 'maroon', 'size': 150, 'marker': 'o'},\n",
    "}\n"
   ]
  },
  {
   "cell_type": "code",
   "execution_count": null,
   "id": "48a8dadcc388ac8b",
   "metadata": {
    "ExecuteTime": {
     "end_time": "2024-07-08T17:21:48.509760Z",
     "start_time": "2024-07-08T17:21:48.469324Z"
    }
   },
   "outputs": [],
   "source": [
    "star_types[0]  # to get the value of the key\n",
    "# star_types[0]['label']  # to get the value of the key ie., lable : Brown dwarf\n",
    "# star_types[star_type[100]]['marker']  # to get the marker of the star type"
   ]
  },
  {
   "cell_type": "code",
   "execution_count": null,
   "id": "e42c8eae1b888266",
   "metadata": {
    "ExecuteTime": {
     "end_time": "2024-07-08T17:21:53.606042Z",
     "start_time": "2024-07-08T17:21:48.516372Z"
    }
   },
   "outputs": [],
   "source": [
    "# Plotting a HR diagram for Temp vs Abs mag\n",
    "\n",
    "axes = []\n",
    "labels = set()\n",
    "\n",
    "plt.figure(figsize=(10, 6))\n",
    "\n",
    "for i in range(len(star_type)):\n",
    "    properties = star_types[star_type[i]]  # to get the properties of the star type\n",
    "    \n",
    "    if properties['label'] not in labels:\n",
    "        ax = plt.scatter(temp[i], abs_mag[i],\n",
    "                    s=properties['size'],\n",
    "                    c=properties['color'],\n",
    "                    marker=properties['marker'],\n",
    "                    label=properties['label'])\n",
    "        \n",
    "        axes.append(ax) # to append the axes to the list\n",
    "        labels.add(properties['label']) # to add the label to the set (unique values)\n",
    "    \n",
    "    else:\n",
    "        plt.scatter(temp[i], abs_mag[i],\n",
    "                    s=properties['size'],\n",
    "                    c=properties['color'],\n",
    "                    marker=properties['marker'],\n",
    "                    label=properties['label'])\n",
    "\n",
    "# Adding Data for the Sun\n",
    "ax_sun = plt.scatter(5778, 4.83, s=75, c='yellow', marker='o', label='Sun')\n",
    "axes.append(ax_sun)\n",
    "labels.add(\"Sun\")\n",
    "\n",
    "# Adding title\n",
    "plt.title(f\"Hertzsprung - Russell Diagram for {len(star_type)} Stars\", fontsize=22)\n",
    "\n",
    "# Adding labels\n",
    "plt.ylabel(\"Absolute Magnitude (Mv)\", fontsize=14)\n",
    "plt.xlabel(\"Temperature (K)\", fontsize=14)\n",
    "\n",
    "plt.legend(handles=axes)\n",
    "\n",
    "plt.gca().invert_xaxis()  # to invert the x-axis\n",
    "plt.gca().invert_yaxis()  # to invert the y-axis\n",
    "\n",
    "plt.savefig(base_dir + 'Hertzsprung_Russell_Diagram.png')\n",
    "plt.show()\n"
   ]
  },
  {
   "cell_type": "markdown",
   "id": "f84e175db68810f9",
   "metadata": {},
   "source": [
    "## Downloading Visualization\n",
    "- How to save these visualizations directory in our system from colab notebook.\n",
    "\n",
    "### Theory is in your brain, practice is in your hand."
   ]
  },
  {
   "cell_type": "markdown",
   "id": "96f2761870cbaf9a",
   "metadata": {},
   "source": []
  },
  {
   "cell_type": "markdown",
   "id": "6643c4e58d0387b3",
   "metadata": {},
   "source": [
    "# Module 2 -----------------------------------------------------------------------------------------------------------------------"
   ]
  },
  {
   "cell_type": "markdown",
   "id": "157e453fa5e84270",
   "metadata": {},
   "source": [
    "### What is FITS image ??  \n",
    "\n",
    "1. Primary Header Unit (PHU) : contains metadata about the image.\n",
    "2. Data : contains the image data.\n",
    "3. Extension Header : contains metadata about the extension data.\n",
    "4. Extension Data : contains additional data.\n",
    "\n",
    "like n extension header and their data \n",
    "- For image processing."
   ]
  },
  {
   "cell_type": "markdown",
   "id": "a4511cfed67a42d7",
   "metadata": {},
   "source": [
    "For astronomical data processing, \n",
    "\n",
    "- pip install astroquery    \n",
    "\n",
    "for virtual observatory / telescope images \n",
    "\n",
    "- skyview.gsfc.nasa.gov (for all telescope images from NASA)"
   ]
  },
  {
   "cell_type": "markdown",
   "id": "31b3ae7068566cc8",
   "metadata": {},
   "source": [
    "### Servey 1 : For andromeda galaxy using SDSS"
   ]
  },
  {
   "cell_type": "code",
   "execution_count": null,
   "id": "4144934076e03b93",
   "metadata": {
    "ExecuteTime": {
     "end_time": "2024-07-08T17:21:56.991894Z",
     "start_time": "2024-07-08T17:21:53.608080Z"
    }
   },
   "outputs": [],
   "source": [
    "from astroquery.skyview import SkyView"
   ]
  },
  {
   "cell_type": "code",
   "execution_count": null,
   "id": "87a84c90e3caeec9",
   "metadata": {
    "ExecuteTime": {
     "end_time": "2024-07-08T17:23:48.273855Z",
     "start_time": "2024-07-08T17:23:48.018388Z"
    }
   },
   "outputs": [],
   "source": [
    "# Get the andromeda galaxy image from the skyview\n",
    "hdu = SkyView.get_images(\"M31\", \"SDSSg\")[0][0]            # [0][0] : is for the first image and first extension as per the FITS file"
   ]
  },
  {
   "cell_type": "code",
   "execution_count": null,
   "id": "20e7781230bb5312",
   "metadata": {
    "ExecuteTime": {
     "end_time": "2024-07-08T17:23:50.438493Z",
     "start_time": "2024-07-08T17:23:50.426836Z"
    }
   },
   "outputs": [],
   "source": [
    "# Get the metadata using hearder \n",
    "hdu.header\n",
    "# all the metadata is stored in the header of the FITS file i.e., hdu.header"
   ]
  },
  {
   "cell_type": "code",
   "execution_count": null,
   "id": "789412f0eb9dfad5",
   "metadata": {
    "ExecuteTime": {
     "end_time": "2024-07-08T17:27:46.131563Z",
     "start_time": "2024-07-08T17:27:46.123833Z"
    }
   },
   "outputs": [],
   "source": [
    "# To get the pixel data form HDU \n",
    "M31_Pixels = hdu.data\n",
    "print(M31_Pixels)"
   ]
  },
  {
   "cell_type": "code",
   "execution_count": null,
   "id": "e8f1ca18852efeab",
   "metadata": {
    "ExecuteTime": {
     "end_time": "2024-07-08T17:27:52.475712Z",
     "start_time": "2024-07-08T17:27:52.469699Z"
    }
   },
   "outputs": [],
   "source": [
    "# Check the type - must be numpy array\n",
    "type(M31_Pixels)"
   ]
  },
  {
   "cell_type": "code",
   "execution_count": null,
   "id": "79011a2fd25e9134",
   "metadata": {
    "ExecuteTime": {
     "end_time": "2024-07-08T17:28:29.387731Z",
     "start_time": "2024-07-08T17:28:29.381803Z"
    }
   },
   "outputs": [],
   "source": [
    "# Check the shape of the array \n",
    "M31_Pixels.shape"
   ]
  },
  {
   "cell_type": "code",
   "execution_count": null,
   "id": "8ae706eea8cd93d2",
   "metadata": {
    "ExecuteTime": {
     "end_time": "2024-07-08T17:34:49.385721Z",
     "start_time": "2024-07-08T17:34:49.040613Z"
    }
   },
   "outputs": [],
   "source": [
    "# Plot the image \n",
    "plt.imshow(M31_Pixels, cmap='gray', origin='lower')      # output : image of the andromeda galaxy\n",
    "plt.grid(False)\n",
    "# imshow : to show the image \n",
    "# plt.show() : to show the image\n",
    "# cmap : to change the color map of the image\n",
    "# origin : to change the origin of the image\n"
   ]
  },
  {
   "cell_type": "markdown",
   "id": "e8936c170656b5e",
   "metadata": {},
   "source": [
    "### Servey 2 : for andromeda galaxy using DSS (zoomed out image)"
   ]
  },
  {
   "cell_type": "code",
   "execution_count": null,
   "id": "332ce9e53fba8458",
   "metadata": {
    "ExecuteTime": {
     "end_time": "2024-07-08T17:38:59.120045Z",
     "start_time": "2024-07-08T17:38:59.115100Z"
    }
   },
   "outputs": [],
   "source": [
    "import astropy.units as u"
   ]
  },
  {
   "cell_type": "code",
   "execution_count": null,
   "id": "cca47df569278630",
   "metadata": {
    "ExecuteTime": {
     "end_time": "2024-07-08T17:39:58.144823Z",
     "start_time": "2024-07-08T17:39:25.521449Z"
    }
   },
   "outputs": [],
   "source": [
    "hdu2 = SkyView.get_images(\"M31\", \"DSS2 Blue\", pixels=600, radius=150 * u.arcmin)[0][0]"
   ]
  },
  {
   "cell_type": "code",
   "execution_count": null,
   "id": "4bb9e7de8908b0f3",
   "metadata": {
    "ExecuteTime": {
     "end_time": "2024-07-08T17:41:36.670648Z",
     "start_time": "2024-07-08T17:41:36.397371Z"
    }
   },
   "outputs": [],
   "source": [
    "M31_DSS2_Blue_Pixels = hdu2.data\n",
    "\n",
    "plt.imshow(M31_DSS2_Blue_Pixels, cmap='gray', origin='lower')\n",
    "plt.grid(False)"
   ]
  },
  {
   "cell_type": "markdown",
   "id": "50eedfdeb0a6e15f",
   "metadata": {},
   "source": [
    "### Creating own FITS image/ File \n",
    "- Create one Dummy FITS file.\n",
    "- - Same Header and data as we had in Andromeda Galaxy.\n",
    "- Test if FITS file is working as we expect it to work ! "
   ]
  },
  {
   "cell_type": "markdown",
   "id": "9bec7fa3535031f3",
   "metadata": {},
   "source": [
    "Import fits from io module of astropy\n"
   ]
  },
  {
   "cell_type": "code",
   "execution_count": null,
   "id": "b41f47b4b77a13a5",
   "metadata": {
    "ExecuteTime": {
     "end_time": "2024-07-08T17:48:25.338522Z",
     "start_time": "2024-07-08T17:48:25.330074Z"
    }
   },
   "outputs": [],
   "source": [
    "from astropy.io import fits"
   ]
  },
  {
   "cell_type": "code",
   "execution_count": null,
   "id": "4e9f2c8dbaf148fc",
   "metadata": {
    "ExecuteTime": {
     "end_time": "2024-07-08T18:00:53.906038Z",
     "start_time": "2024-07-08T18:00:53.868025Z"
    }
   },
   "outputs": [],
   "source": [
    "# Steps :- \n",
    "\n",
    "# 1. Create a HDUList() to store different HDUs\n",
    "hdulist = fits.HDUList()\n",
    "\n",
    "# 2. Create a Primary HDU with data and header\n",
    "hdu1 = fits.PrimaryHDU()\n",
    "\n",
    "# 3. Add Pixels data \n",
    "hdu1.data = M31_Pixels\n",
    "\n",
    "# 4. To add Meta data\n",
    "hdu1.header = M31_header\n",
    "\n",
    "# 5. Append this primary HDU to the HDU list\n",
    "hdulist.append(hdu1)\n",
    "\n",
    "# 6. Generate the FITS file \n",
    "hdulist.writeto('Dummy_FITS_file.fits')"
   ]
  }
 ],
 "metadata": {
  "kernelspec": {
   "display_name": "Python 3 (ipykernel)",
   "language": "python",
   "name": "python3"
  },
  "language_info": {
   "codemirror_mode": {
    "name": "ipython",
    "version": 3
   },
   "file_extension": ".py",
   "mimetype": "text/x-python",
   "name": "python",
   "nbconvert_exporter": "python",
   "pygments_lexer": "ipython3",
   "version": "3.12.1"
  }
 },
 "nbformat": 4,
 "nbformat_minor": 5
}
